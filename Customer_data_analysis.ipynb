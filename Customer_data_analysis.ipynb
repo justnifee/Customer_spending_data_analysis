{
 "cells": [
  {
   "cell_type": "code",
   "execution_count": 2,
   "id": "ddc63c0d",
   "metadata": {},
   "outputs": [],
   "source": [
    "import pandas as pd\n",
    "import seaborn as sns\n",
    "import matplotlib.pyplot as plt\n"
   ]
  },
  {
   "cell_type": "code",
   "execution_count": 94,
   "id": "6d8e070b",
   "metadata": {},
   "outputs": [],
   "source": [
    "data=pd.read_csv(r\"C:\\Users\\oaina\\Documents\\Aina doc\\Aina_analytics\\DATASETS\\customer_data.csv\")"
   ]
  },
  {
   "cell_type": "code",
   "execution_count": null,
   "id": "1c45f60b",
   "metadata": {},
   "outputs": [],
   "source": [
    "## Display top 10 rows of the dataset"
   ]
  },
  {
   "cell_type": "code",
   "execution_count": 95,
   "id": "e82c9a13",
   "metadata": {},
   "outputs": [
    {
     "data": {
      "text/html": [
       "<div>\n",
       "<style scoped>\n",
       "    .dataframe tbody tr th:only-of-type {\n",
       "        vertical-align: middle;\n",
       "    }\n",
       "\n",
       "    .dataframe tbody tr th {\n",
       "        vertical-align: top;\n",
       "    }\n",
       "\n",
       "    .dataframe thead th {\n",
       "        text-align: right;\n",
       "    }\n",
       "</style>\n",
       "<table border=\"1\" class=\"dataframe\">\n",
       "  <thead>\n",
       "    <tr style=\"text-align: right;\">\n",
       "      <th></th>\n",
       "      <th>name</th>\n",
       "      <th>age</th>\n",
       "      <th>gender</th>\n",
       "      <th>education</th>\n",
       "      <th>income</th>\n",
       "      <th>country</th>\n",
       "      <th>purchase_frequency</th>\n",
       "      <th>spending</th>\n",
       "    </tr>\n",
       "  </thead>\n",
       "  <tbody>\n",
       "    <tr>\n",
       "      <th>0</th>\n",
       "      <td>Teresa Williams MD</td>\n",
       "      <td>42</td>\n",
       "      <td>Female</td>\n",
       "      <td>High School</td>\n",
       "      <td>53936</td>\n",
       "      <td>Slovenia</td>\n",
       "      <td>0.9</td>\n",
       "      <td>13227.120</td>\n",
       "    </tr>\n",
       "    <tr>\n",
       "      <th>1</th>\n",
       "      <td>Christine Myers</td>\n",
       "      <td>49</td>\n",
       "      <td>Female</td>\n",
       "      <td>Master</td>\n",
       "      <td>82468</td>\n",
       "      <td>Aruba</td>\n",
       "      <td>0.6</td>\n",
       "      <td>12674.040</td>\n",
       "    </tr>\n",
       "    <tr>\n",
       "      <th>2</th>\n",
       "      <td>Dwayne Moreno</td>\n",
       "      <td>55</td>\n",
       "      <td>Male</td>\n",
       "      <td>Bachelor</td>\n",
       "      <td>56941</td>\n",
       "      <td>Cyprus</td>\n",
       "      <td>0.3</td>\n",
       "      <td>5354.115</td>\n",
       "    </tr>\n",
       "    <tr>\n",
       "      <th>3</th>\n",
       "      <td>Amy Norton</td>\n",
       "      <td>24</td>\n",
       "      <td>Female</td>\n",
       "      <td>Bachelor</td>\n",
       "      <td>60651</td>\n",
       "      <td>Palau</td>\n",
       "      <td>0.2</td>\n",
       "      <td>2606.510</td>\n",
       "    </tr>\n",
       "    <tr>\n",
       "      <th>4</th>\n",
       "      <td>Tonya Adams</td>\n",
       "      <td>64</td>\n",
       "      <td>Male</td>\n",
       "      <td>Master</td>\n",
       "      <td>81884</td>\n",
       "      <td>Zambia</td>\n",
       "      <td>0.9</td>\n",
       "      <td>18984.780</td>\n",
       "    </tr>\n",
       "    <tr>\n",
       "      <th>5</th>\n",
       "      <td>Charles Smith</td>\n",
       "      <td>24</td>\n",
       "      <td>Female</td>\n",
       "      <td>PhD</td>\n",
       "      <td>61444</td>\n",
       "      <td>Libyan Arab Jamahiriya</td>\n",
       "      <td>1.0</td>\n",
       "      <td>18072.200</td>\n",
       "    </tr>\n",
       "    <tr>\n",
       "      <th>6</th>\n",
       "      <td>Misty Moody</td>\n",
       "      <td>58</td>\n",
       "      <td>Male</td>\n",
       "      <td>PhD</td>\n",
       "      <td>78024</td>\n",
       "      <td>Italy</td>\n",
       "      <td>0.9</td>\n",
       "      <td>21511.080</td>\n",
       "    </tr>\n",
       "    <tr>\n",
       "      <th>7</th>\n",
       "      <td>Brian Kent</td>\n",
       "      <td>34</td>\n",
       "      <td>Male</td>\n",
       "      <td>High School</td>\n",
       "      <td>32225</td>\n",
       "      <td>Pakistan</td>\n",
       "      <td>0.7</td>\n",
       "      <td>6727.875</td>\n",
       "    </tr>\n",
       "    <tr>\n",
       "      <th>8</th>\n",
       "      <td>Stacie Ray</td>\n",
       "      <td>63</td>\n",
       "      <td>Male</td>\n",
       "      <td>PhD</td>\n",
       "      <td>63664</td>\n",
       "      <td>Venezuela</td>\n",
       "      <td>0.4</td>\n",
       "      <td>9273.280</td>\n",
       "    </tr>\n",
       "    <tr>\n",
       "      <th>9</th>\n",
       "      <td>Brian Townsend</td>\n",
       "      <td>64</td>\n",
       "      <td>Female</td>\n",
       "      <td>High School</td>\n",
       "      <td>45043</td>\n",
       "      <td>San Marino</td>\n",
       "      <td>1.0</td>\n",
       "      <td>16252.150</td>\n",
       "    </tr>\n",
       "  </tbody>\n",
       "</table>\n",
       "</div>"
      ],
      "text/plain": [
       "                 name  age  gender    education  income  \\\n",
       "0  Teresa Williams MD   42  Female  High School   53936   \n",
       "1     Christine Myers   49  Female       Master   82468   \n",
       "2       Dwayne Moreno   55    Male     Bachelor   56941   \n",
       "3          Amy Norton   24  Female     Bachelor   60651   \n",
       "4         Tonya Adams   64    Male       Master   81884   \n",
       "5       Charles Smith   24  Female          PhD   61444   \n",
       "6         Misty Moody   58    Male          PhD   78024   \n",
       "7          Brian Kent   34    Male  High School   32225   \n",
       "8          Stacie Ray   63    Male          PhD   63664   \n",
       "9      Brian Townsend   64  Female  High School   45043   \n",
       "\n",
       "                  country  purchase_frequency   spending  \n",
       "0                Slovenia                 0.9  13227.120  \n",
       "1                   Aruba                 0.6  12674.040  \n",
       "2                  Cyprus                 0.3   5354.115  \n",
       "3                   Palau                 0.2   2606.510  \n",
       "4                  Zambia                 0.9  18984.780  \n",
       "5  Libyan Arab Jamahiriya                 1.0  18072.200  \n",
       "6                   Italy                 0.9  21511.080  \n",
       "7                Pakistan                 0.7   6727.875  \n",
       "8               Venezuela                 0.4   9273.280  \n",
       "9              San Marino                 1.0  16252.150  "
      ]
     },
     "execution_count": 95,
     "metadata": {},
     "output_type": "execute_result"
    }
   ],
   "source": [
    "data.head(10)"
   ]
  },
  {
   "cell_type": "code",
   "execution_count": null,
   "id": "0324d507",
   "metadata": {},
   "outputs": [],
   "source": [
    "## Display bottom 10 of the dataset"
   ]
  },
  {
   "cell_type": "code",
   "execution_count": 96,
   "id": "ed9b9a37",
   "metadata": {},
   "outputs": [
    {
     "data": {
      "text/html": [
       "<div>\n",
       "<style scoped>\n",
       "    .dataframe tbody tr th:only-of-type {\n",
       "        vertical-align: middle;\n",
       "    }\n",
       "\n",
       "    .dataframe tbody tr th {\n",
       "        vertical-align: top;\n",
       "    }\n",
       "\n",
       "    .dataframe thead th {\n",
       "        text-align: right;\n",
       "    }\n",
       "</style>\n",
       "<table border=\"1\" class=\"dataframe\">\n",
       "  <thead>\n",
       "    <tr style=\"text-align: right;\">\n",
       "      <th></th>\n",
       "      <th>name</th>\n",
       "      <th>age</th>\n",
       "      <th>gender</th>\n",
       "      <th>education</th>\n",
       "      <th>income</th>\n",
       "      <th>country</th>\n",
       "      <th>purchase_frequency</th>\n",
       "      <th>spending</th>\n",
       "    </tr>\n",
       "  </thead>\n",
       "  <tbody>\n",
       "    <tr>\n",
       "      <th>990</th>\n",
       "      <td>William Wright</td>\n",
       "      <td>51</td>\n",
       "      <td>Female</td>\n",
       "      <td>High School</td>\n",
       "      <td>49951</td>\n",
       "      <td>Poland</td>\n",
       "      <td>0.3</td>\n",
       "      <td>4949.265</td>\n",
       "    </tr>\n",
       "    <tr>\n",
       "      <th>991</th>\n",
       "      <td>Joanne Watson</td>\n",
       "      <td>43</td>\n",
       "      <td>Female</td>\n",
       "      <td>High School</td>\n",
       "      <td>52276</td>\n",
       "      <td>Turks and Caicos Islands</td>\n",
       "      <td>0.4</td>\n",
       "      <td>5845.520</td>\n",
       "    </tr>\n",
       "    <tr>\n",
       "      <th>992</th>\n",
       "      <td>Vincent Wallace</td>\n",
       "      <td>25</td>\n",
       "      <td>Male</td>\n",
       "      <td>PhD</td>\n",
       "      <td>84339</td>\n",
       "      <td>Benin</td>\n",
       "      <td>0.7</td>\n",
       "      <td>12051.865</td>\n",
       "    </tr>\n",
       "    <tr>\n",
       "      <th>993</th>\n",
       "      <td>Jennifer Malone</td>\n",
       "      <td>34</td>\n",
       "      <td>Male</td>\n",
       "      <td>High School</td>\n",
       "      <td>92407</td>\n",
       "      <td>British Virgin Islands</td>\n",
       "      <td>0.7</td>\n",
       "      <td>8834.245</td>\n",
       "    </tr>\n",
       "    <tr>\n",
       "      <th>994</th>\n",
       "      <td>Laura Wright MD</td>\n",
       "      <td>27</td>\n",
       "      <td>Female</td>\n",
       "      <td>Bachelor</td>\n",
       "      <td>26321</td>\n",
       "      <td>Ecuador</td>\n",
       "      <td>0.5</td>\n",
       "      <td>7158.025</td>\n",
       "    </tr>\n",
       "    <tr>\n",
       "      <th>995</th>\n",
       "      <td>Jason Haas</td>\n",
       "      <td>42</td>\n",
       "      <td>Female</td>\n",
       "      <td>PhD</td>\n",
       "      <td>98170</td>\n",
       "      <td>Bosnia and Herzegovina</td>\n",
       "      <td>0.7</td>\n",
       "      <td>17435.950</td>\n",
       "    </tr>\n",
       "    <tr>\n",
       "      <th>996</th>\n",
       "      <td>Sharon Valdez</td>\n",
       "      <td>39</td>\n",
       "      <td>Male</td>\n",
       "      <td>High School</td>\n",
       "      <td>59174</td>\n",
       "      <td>Eritrea</td>\n",
       "      <td>0.9</td>\n",
       "      <td>11662.830</td>\n",
       "    </tr>\n",
       "    <tr>\n",
       "      <th>997</th>\n",
       "      <td>Andrew Taylor</td>\n",
       "      <td>50</td>\n",
       "      <td>Male</td>\n",
       "      <td>Master</td>\n",
       "      <td>59808</td>\n",
       "      <td>Serbia</td>\n",
       "      <td>0.4</td>\n",
       "      <td>7196.160</td>\n",
       "    </tr>\n",
       "    <tr>\n",
       "      <th>998</th>\n",
       "      <td>Jessica Johnson</td>\n",
       "      <td>50</td>\n",
       "      <td>Female</td>\n",
       "      <td>Master</td>\n",
       "      <td>58272</td>\n",
       "      <td>Cyprus</td>\n",
       "      <td>0.7</td>\n",
       "      <td>13939.520</td>\n",
       "    </tr>\n",
       "    <tr>\n",
       "      <th>999</th>\n",
       "      <td>Brian Williams</td>\n",
       "      <td>38</td>\n",
       "      <td>Female</td>\n",
       "      <td>Bachelor</td>\n",
       "      <td>32512</td>\n",
       "      <td>Turkey</td>\n",
       "      <td>0.5</td>\n",
       "      <td>8312.800</td>\n",
       "    </tr>\n",
       "  </tbody>\n",
       "</table>\n",
       "</div>"
      ],
      "text/plain": [
       "                name  age  gender    education  income  \\\n",
       "990   William Wright   51  Female  High School   49951   \n",
       "991    Joanne Watson   43  Female  High School   52276   \n",
       "992  Vincent Wallace   25    Male          PhD   84339   \n",
       "993  Jennifer Malone   34    Male  High School   92407   \n",
       "994  Laura Wright MD   27  Female     Bachelor   26321   \n",
       "995       Jason Haas   42  Female          PhD   98170   \n",
       "996    Sharon Valdez   39    Male  High School   59174   \n",
       "997    Andrew Taylor   50    Male       Master   59808   \n",
       "998  Jessica Johnson   50  Female       Master   58272   \n",
       "999   Brian Williams   38  Female     Bachelor   32512   \n",
       "\n",
       "                      country  purchase_frequency   spending  \n",
       "990                    Poland                 0.3   4949.265  \n",
       "991  Turks and Caicos Islands                 0.4   5845.520  \n",
       "992                     Benin                 0.7  12051.865  \n",
       "993    British Virgin Islands                 0.7   8834.245  \n",
       "994                   Ecuador                 0.5   7158.025  \n",
       "995    Bosnia and Herzegovina                 0.7  17435.950  \n",
       "996                   Eritrea                 0.9  11662.830  \n",
       "997                    Serbia                 0.4   7196.160  \n",
       "998                    Cyprus                 0.7  13939.520  \n",
       "999                    Turkey                 0.5   8312.800  "
      ]
     },
     "execution_count": 96,
     "metadata": {},
     "output_type": "execute_result"
    }
   ],
   "source": [
    "data.tail(10)"
   ]
  },
  {
   "cell_type": "code",
   "execution_count": null,
   "id": "b62ebbf9",
   "metadata": {},
   "outputs": [],
   "source": [
    "## Find the shape of the dataset(No of rows and No of Column)"
   ]
  },
  {
   "cell_type": "code",
   "execution_count": 97,
   "id": "2e987dc7",
   "metadata": {},
   "outputs": [
    {
     "data": {
      "text/plain": [
       "(1000, 8)"
      ]
     },
     "execution_count": 97,
     "metadata": {},
     "output_type": "execute_result"
    }
   ],
   "source": [
    "data.shape"
   ]
  },
  {
   "cell_type": "code",
   "execution_count": 98,
   "id": "bc4125ea",
   "metadata": {},
   "outputs": [
    {
     "name": "stdout",
     "output_type": "stream",
     "text": [
      "Number of rows 1000\n",
      "Number of column 8\n"
     ]
    }
   ],
   "source": [
    "print(\"Number of rows\", data.shape[0])\n",
    "print(\"Number of column\", data.shape[1])"
   ]
  },
  {
   "cell_type": "code",
   "execution_count": null,
   "id": "15fb5a3f",
   "metadata": {},
   "outputs": [],
   "source": [
    "## Get info about the dataset"
   ]
  },
  {
   "cell_type": "code",
   "execution_count": 99,
   "id": "0db1d8d8",
   "metadata": {},
   "outputs": [
    {
     "name": "stdout",
     "output_type": "stream",
     "text": [
      "<class 'pandas.core.frame.DataFrame'>\n",
      "RangeIndex: 1000 entries, 0 to 999\n",
      "Data columns (total 8 columns):\n",
      " #   Column              Non-Null Count  Dtype  \n",
      "---  ------              --------------  -----  \n",
      " 0   name                1000 non-null   object \n",
      " 1   age                 1000 non-null   int64  \n",
      " 2   gender              1000 non-null   object \n",
      " 3   education           1000 non-null   object \n",
      " 4   income              1000 non-null   int64  \n",
      " 5   country             1000 non-null   object \n",
      " 6   purchase_frequency  1000 non-null   float64\n",
      " 7   spending            1000 non-null   float64\n",
      "dtypes: float64(2), int64(2), object(4)\n",
      "memory usage: 62.6+ KB\n"
     ]
    }
   ],
   "source": [
    "data.info()"
   ]
  },
  {
   "cell_type": "code",
   "execution_count": null,
   "id": "e3fefd55",
   "metadata": {},
   "outputs": [],
   "source": [
    "## Check the missing values in the dataset"
   ]
  },
  {
   "cell_type": "code",
   "execution_count": 100,
   "id": "2aec3163",
   "metadata": {},
   "outputs": [
    {
     "name": "stdout",
     "output_type": "stream",
     "text": [
      "Any missing value in the dataset False\n"
     ]
    }
   ],
   "source": [
    "print(\"Any missing value in the dataset\",data.isnull().values.any())"
   ]
  },
  {
   "cell_type": "code",
   "execution_count": 101,
   "id": "98309ec9",
   "metadata": {},
   "outputs": [
    {
     "data": {
      "text/html": [
       "<div>\n",
       "<style scoped>\n",
       "    .dataframe tbody tr th:only-of-type {\n",
       "        vertical-align: middle;\n",
       "    }\n",
       "\n",
       "    .dataframe tbody tr th {\n",
       "        vertical-align: top;\n",
       "    }\n",
       "\n",
       "    .dataframe thead th {\n",
       "        text-align: right;\n",
       "    }\n",
       "</style>\n",
       "<table border=\"1\" class=\"dataframe\">\n",
       "  <thead>\n",
       "    <tr style=\"text-align: right;\">\n",
       "      <th></th>\n",
       "      <th>name</th>\n",
       "      <th>age</th>\n",
       "      <th>gender</th>\n",
       "      <th>education</th>\n",
       "      <th>income</th>\n",
       "      <th>country</th>\n",
       "      <th>purchase_frequency</th>\n",
       "      <th>spending</th>\n",
       "    </tr>\n",
       "  </thead>\n",
       "  <tbody>\n",
       "    <tr>\n",
       "      <th>0</th>\n",
       "      <td>False</td>\n",
       "      <td>False</td>\n",
       "      <td>False</td>\n",
       "      <td>False</td>\n",
       "      <td>False</td>\n",
       "      <td>False</td>\n",
       "      <td>False</td>\n",
       "      <td>False</td>\n",
       "    </tr>\n",
       "    <tr>\n",
       "      <th>1</th>\n",
       "      <td>False</td>\n",
       "      <td>False</td>\n",
       "      <td>False</td>\n",
       "      <td>False</td>\n",
       "      <td>False</td>\n",
       "      <td>False</td>\n",
       "      <td>False</td>\n",
       "      <td>False</td>\n",
       "    </tr>\n",
       "    <tr>\n",
       "      <th>2</th>\n",
       "      <td>False</td>\n",
       "      <td>False</td>\n",
       "      <td>False</td>\n",
       "      <td>False</td>\n",
       "      <td>False</td>\n",
       "      <td>False</td>\n",
       "      <td>False</td>\n",
       "      <td>False</td>\n",
       "    </tr>\n",
       "    <tr>\n",
       "      <th>3</th>\n",
       "      <td>False</td>\n",
       "      <td>False</td>\n",
       "      <td>False</td>\n",
       "      <td>False</td>\n",
       "      <td>False</td>\n",
       "      <td>False</td>\n",
       "      <td>False</td>\n",
       "      <td>False</td>\n",
       "    </tr>\n",
       "    <tr>\n",
       "      <th>4</th>\n",
       "      <td>False</td>\n",
       "      <td>False</td>\n",
       "      <td>False</td>\n",
       "      <td>False</td>\n",
       "      <td>False</td>\n",
       "      <td>False</td>\n",
       "      <td>False</td>\n",
       "      <td>False</td>\n",
       "    </tr>\n",
       "    <tr>\n",
       "      <th>...</th>\n",
       "      <td>...</td>\n",
       "      <td>...</td>\n",
       "      <td>...</td>\n",
       "      <td>...</td>\n",
       "      <td>...</td>\n",
       "      <td>...</td>\n",
       "      <td>...</td>\n",
       "      <td>...</td>\n",
       "    </tr>\n",
       "    <tr>\n",
       "      <th>995</th>\n",
       "      <td>False</td>\n",
       "      <td>False</td>\n",
       "      <td>False</td>\n",
       "      <td>False</td>\n",
       "      <td>False</td>\n",
       "      <td>False</td>\n",
       "      <td>False</td>\n",
       "      <td>False</td>\n",
       "    </tr>\n",
       "    <tr>\n",
       "      <th>996</th>\n",
       "      <td>False</td>\n",
       "      <td>False</td>\n",
       "      <td>False</td>\n",
       "      <td>False</td>\n",
       "      <td>False</td>\n",
       "      <td>False</td>\n",
       "      <td>False</td>\n",
       "      <td>False</td>\n",
       "    </tr>\n",
       "    <tr>\n",
       "      <th>997</th>\n",
       "      <td>False</td>\n",
       "      <td>False</td>\n",
       "      <td>False</td>\n",
       "      <td>False</td>\n",
       "      <td>False</td>\n",
       "      <td>False</td>\n",
       "      <td>False</td>\n",
       "      <td>False</td>\n",
       "    </tr>\n",
       "    <tr>\n",
       "      <th>998</th>\n",
       "      <td>False</td>\n",
       "      <td>False</td>\n",
       "      <td>False</td>\n",
       "      <td>False</td>\n",
       "      <td>False</td>\n",
       "      <td>False</td>\n",
       "      <td>False</td>\n",
       "      <td>False</td>\n",
       "    </tr>\n",
       "    <tr>\n",
       "      <th>999</th>\n",
       "      <td>False</td>\n",
       "      <td>False</td>\n",
       "      <td>False</td>\n",
       "      <td>False</td>\n",
       "      <td>False</td>\n",
       "      <td>False</td>\n",
       "      <td>False</td>\n",
       "      <td>False</td>\n",
       "    </tr>\n",
       "  </tbody>\n",
       "</table>\n",
       "<p>1000 rows × 8 columns</p>\n",
       "</div>"
      ],
      "text/plain": [
       "      name    age  gender  education  income  country  purchase_frequency  \\\n",
       "0    False  False   False      False   False    False               False   \n",
       "1    False  False   False      False   False    False               False   \n",
       "2    False  False   False      False   False    False               False   \n",
       "3    False  False   False      False   False    False               False   \n",
       "4    False  False   False      False   False    False               False   \n",
       "..     ...    ...     ...        ...     ...      ...                 ...   \n",
       "995  False  False   False      False   False    False               False   \n",
       "996  False  False   False      False   False    False               False   \n",
       "997  False  False   False      False   False    False               False   \n",
       "998  False  False   False      False   False    False               False   \n",
       "999  False  False   False      False   False    False               False   \n",
       "\n",
       "     spending  \n",
       "0       False  \n",
       "1       False  \n",
       "2       False  \n",
       "3       False  \n",
       "4       False  \n",
       "..        ...  \n",
       "995     False  \n",
       "996     False  \n",
       "997     False  \n",
       "998     False  \n",
       "999     False  \n",
       "\n",
       "[1000 rows x 8 columns]"
      ]
     },
     "execution_count": 101,
     "metadata": {},
     "output_type": "execute_result"
    }
   ],
   "source": [
    "data.isnull()"
   ]
  },
  {
   "cell_type": "code",
   "execution_count": 102,
   "id": "4ecf33ce",
   "metadata": {},
   "outputs": [
    {
     "data": {
      "text/plain": [
       "name                  0\n",
       "age                   0\n",
       "gender                0\n",
       "education             0\n",
       "income                0\n",
       "country               0\n",
       "purchase_frequency    0\n",
       "spending              0\n",
       "dtype: int64"
      ]
     },
     "execution_count": 102,
     "metadata": {},
     "output_type": "execute_result"
    }
   ],
   "source": [
    "data.isnull().sum()"
   ]
  },
  {
   "cell_type": "code",
   "execution_count": 103,
   "id": "79b3d810",
   "metadata": {},
   "outputs": [
    {
     "data": {
      "text/plain": [
       "<Axes: >"
      ]
     },
     "execution_count": 103,
     "metadata": {},
     "output_type": "execute_result"
    },
    {
     "data": {
      "image/png": "[encoded data removed]",
      "text/plain": [
       "<Figure size 640x480 with 2 Axes>"
      ]
     },
     "metadata": {},
     "output_type": "display_data"
    }
   ],
   "source": [
    "sns.heatmap(data.isnull())"
   ]
  },
  {
   "cell_type": "code",
   "execution_count": null,
   "id": "1a26fe5a",
   "metadata": {},
   "outputs": [],
   "source": [
    "#Find isnull in percentage"
   ]
  },
  {
   "cell_type": "code",
   "execution_count": 104,
   "id": "9c2379ad",
   "metadata": {},
   "outputs": [
    {
     "data": {
      "text/plain": [
       "name                  0.0\n",
       "age                   0.0\n",
       "gender                0.0\n",
       "education             0.0\n",
       "income                0.0\n",
       "country               0.0\n",
       "purchase_frequency    0.0\n",
       "spending              0.0\n",
       "dtype: float64"
      ]
     },
     "execution_count": 104,
     "metadata": {},
     "output_type": "execute_result"
    }
   ],
   "source": [
    "missing_value = data.isnull().sum() * 100 / len(data)\n",
    "missing_value"
   ]
  },
  {
   "cell_type": "code",
   "execution_count": null,
   "id": "921c7d1e",
   "metadata": {},
   "outputs": [],
   "source": [
    "## Drop all missing values"
   ]
  },
  {
   "cell_type": "code",
   "execution_count": 105,
   "id": "82f9ecb0",
   "metadata": {},
   "outputs": [
    {
     "data": {
      "text/html": [
       "<div>\n",
       "<style scoped>\n",
       "    .dataframe tbody tr th:only-of-type {\n",
       "        vertical-align: middle;\n",
       "    }\n",
       "\n",
       "    .dataframe tbody tr th {\n",
       "        vertical-align: top;\n",
       "    }\n",
       "\n",
       "    .dataframe thead th {\n",
       "        text-align: right;\n",
       "    }\n",
       "</style>\n",
       "<table border=\"1\" class=\"dataframe\">\n",
       "  <thead>\n",
       "    <tr style=\"text-align: right;\">\n",
       "      <th></th>\n",
       "      <th>name</th>\n",
       "      <th>age</th>\n",
       "      <th>gender</th>\n",
       "      <th>education</th>\n",
       "      <th>income</th>\n",
       "      <th>country</th>\n",
       "      <th>purchase_frequency</th>\n",
       "      <th>spending</th>\n",
       "    </tr>\n",
       "  </thead>\n",
       "  <tbody>\n",
       "    <tr>\n",
       "      <th>0</th>\n",
       "      <td>Teresa Williams MD</td>\n",
       "      <td>42</td>\n",
       "      <td>Female</td>\n",
       "      <td>High School</td>\n",
       "      <td>53936</td>\n",
       "      <td>Slovenia</td>\n",
       "      <td>0.9</td>\n",
       "      <td>13227.120</td>\n",
       "    </tr>\n",
       "    <tr>\n",
       "      <th>1</th>\n",
       "      <td>Christine Myers</td>\n",
       "      <td>49</td>\n",
       "      <td>Female</td>\n",
       "      <td>Master</td>\n",
       "      <td>82468</td>\n",
       "      <td>Aruba</td>\n",
       "      <td>0.6</td>\n",
       "      <td>12674.040</td>\n",
       "    </tr>\n",
       "    <tr>\n",
       "      <th>2</th>\n",
       "      <td>Dwayne Moreno</td>\n",
       "      <td>55</td>\n",
       "      <td>Male</td>\n",
       "      <td>Bachelor</td>\n",
       "      <td>56941</td>\n",
       "      <td>Cyprus</td>\n",
       "      <td>0.3</td>\n",
       "      <td>5354.115</td>\n",
       "    </tr>\n",
       "    <tr>\n",
       "      <th>3</th>\n",
       "      <td>Amy Norton</td>\n",
       "      <td>24</td>\n",
       "      <td>Female</td>\n",
       "      <td>Bachelor</td>\n",
       "      <td>60651</td>\n",
       "      <td>Palau</td>\n",
       "      <td>0.2</td>\n",
       "      <td>2606.510</td>\n",
       "    </tr>\n",
       "    <tr>\n",
       "      <th>4</th>\n",
       "      <td>Tonya Adams</td>\n",
       "      <td>64</td>\n",
       "      <td>Male</td>\n",
       "      <td>Master</td>\n",
       "      <td>81884</td>\n",
       "      <td>Zambia</td>\n",
       "      <td>0.9</td>\n",
       "      <td>18984.780</td>\n",
       "    </tr>\n",
       "    <tr>\n",
       "      <th>...</th>\n",
       "      <td>...</td>\n",
       "      <td>...</td>\n",
       "      <td>...</td>\n",
       "      <td>...</td>\n",
       "      <td>...</td>\n",
       "      <td>...</td>\n",
       "      <td>...</td>\n",
       "      <td>...</td>\n",
       "    </tr>\n",
       "    <tr>\n",
       "      <th>995</th>\n",
       "      <td>Jason Haas</td>\n",
       "      <td>42</td>\n",
       "      <td>Female</td>\n",
       "      <td>PhD</td>\n",
       "      <td>98170</td>\n",
       "      <td>Bosnia and Herzegovina</td>\n",
       "      <td>0.7</td>\n",
       "      <td>17435.950</td>\n",
       "    </tr>\n",
       "    <tr>\n",
       "      <th>996</th>\n",
       "      <td>Sharon Valdez</td>\n",
       "      <td>39</td>\n",
       "      <td>Male</td>\n",
       "      <td>High School</td>\n",
       "      <td>59174</td>\n",
       "      <td>Eritrea</td>\n",
       "      <td>0.9</td>\n",
       "      <td>11662.830</td>\n",
       "    </tr>\n",
       "    <tr>\n",
       "      <th>997</th>\n",
       "      <td>Andrew Taylor</td>\n",
       "      <td>50</td>\n",
       "      <td>Male</td>\n",
       "      <td>Master</td>\n",
       "      <td>59808</td>\n",
       "      <td>Serbia</td>\n",
       "      <td>0.4</td>\n",
       "      <td>7196.160</td>\n",
       "    </tr>\n",
       "    <tr>\n",
       "      <th>998</th>\n",
       "      <td>Jessica Johnson</td>\n",
       "      <td>50</td>\n",
       "      <td>Female</td>\n",
       "      <td>Master</td>\n",
       "      <td>58272</td>\n",
       "      <td>Cyprus</td>\n",
       "      <td>0.7</td>\n",
       "      <td>13939.520</td>\n",
       "    </tr>\n",
       "    <tr>\n",
       "      <th>999</th>\n",
       "      <td>Brian Williams</td>\n",
       "      <td>38</td>\n",
       "      <td>Female</td>\n",
       "      <td>Bachelor</td>\n",
       "      <td>32512</td>\n",
       "      <td>Turkey</td>\n",
       "      <td>0.5</td>\n",
       "      <td>8312.800</td>\n",
       "    </tr>\n",
       "  </tbody>\n",
       "</table>\n",
       "<p>1000 rows × 8 columns</p>\n",
       "</div>"
      ],
      "text/plain": [
       "                   name  age  gender    education  income  \\\n",
       "0    Teresa Williams MD   42  Female  High School   53936   \n",
       "1       Christine Myers   49  Female       Master   82468   \n",
       "2         Dwayne Moreno   55    Male     Bachelor   56941   \n",
       "3            Amy Norton   24  Female     Bachelor   60651   \n",
       "4           Tonya Adams   64    Male       Master   81884   \n",
       "..                  ...  ...     ...          ...     ...   \n",
       "995          Jason Haas   42  Female          PhD   98170   \n",
       "996       Sharon Valdez   39    Male  High School   59174   \n",
       "997       Andrew Taylor   50    Male       Master   59808   \n",
       "998     Jessica Johnson   50  Female       Master   58272   \n",
       "999      Brian Williams   38  Female     Bachelor   32512   \n",
       "\n",
       "                    country  purchase_frequency   spending  \n",
       "0                  Slovenia                 0.9  13227.120  \n",
       "1                     Aruba                 0.6  12674.040  \n",
       "2                    Cyprus                 0.3   5354.115  \n",
       "3                     Palau                 0.2   2606.510  \n",
       "4                    Zambia                 0.9  18984.780  \n",
       "..                      ...                 ...        ...  \n",
       "995  Bosnia and Herzegovina                 0.7  17435.950  \n",
       "996                 Eritrea                 0.9  11662.830  \n",
       "997                  Serbia                 0.4   7196.160  \n",
       "998                  Cyprus                 0.7  13939.520  \n",
       "999                  Turkey                 0.5   8312.800  \n",
       "\n",
       "[1000 rows x 8 columns]"
      ]
     },
     "execution_count": 105,
     "metadata": {},
     "output_type": "execute_result"
    }
   ],
   "source": [
    "data.dropna(axis=0)"
   ]
  },
  {
   "cell_type": "code",
   "execution_count": null,
   "id": "8d960e99",
   "metadata": {},
   "outputs": [],
   "source": [
    "## Check for duplicated values"
   ]
  },
  {
   "cell_type": "code",
   "execution_count": 106,
   "id": "03938fad",
   "metadata": {},
   "outputs": [],
   "source": [
    "dup_data=data.duplicated().any()"
   ]
  },
  {
   "cell_type": "code",
   "execution_count": 107,
   "id": "0abf3f27",
   "metadata": {},
   "outputs": [
    {
     "name": "stdout",
     "output_type": "stream",
     "text": [
      "Are there any duplicated values? False\n"
     ]
    }
   ],
   "source": [
    "print(\"Are there any duplicated values?\", dup_data)"
   ]
  },
  {
   "cell_type": "code",
   "execution_count": null,
   "id": "de929c24",
   "metadata": {},
   "outputs": [],
   "source": [
    "## Drop duplicated values"
   ]
  },
  {
   "cell_type": "code",
   "execution_count": 108,
   "id": "23d96b14",
   "metadata": {},
   "outputs": [
    {
     "data": {
      "text/html": [
       "<div>\n",
       "<style scoped>\n",
       "    .dataframe tbody tr th:only-of-type {\n",
       "        vertical-align: middle;\n",
       "    }\n",
       "\n",
       "    .dataframe tbody tr th {\n",
       "        vertical-align: top;\n",
       "    }\n",
       "\n",
       "    .dataframe thead th {\n",
       "        text-align: right;\n",
       "    }\n",
       "</style>\n",
       "<table border=\"1\" class=\"dataframe\">\n",
       "  <thead>\n",
       "    <tr style=\"text-align: right;\">\n",
       "      <th></th>\n",
       "      <th>name</th>\n",
       "      <th>age</th>\n",
       "      <th>gender</th>\n",
       "      <th>education</th>\n",
       "      <th>income</th>\n",
       "      <th>country</th>\n",
       "      <th>purchase_frequency</th>\n",
       "      <th>spending</th>\n",
       "    </tr>\n",
       "  </thead>\n",
       "  <tbody>\n",
       "    <tr>\n",
       "      <th>0</th>\n",
       "      <td>Teresa Williams MD</td>\n",
       "      <td>42</td>\n",
       "      <td>Female</td>\n",
       "      <td>High School</td>\n",
       "      <td>53936</td>\n",
       "      <td>Slovenia</td>\n",
       "      <td>0.9</td>\n",
       "      <td>13227.120</td>\n",
       "    </tr>\n",
       "    <tr>\n",
       "      <th>1</th>\n",
       "      <td>Christine Myers</td>\n",
       "      <td>49</td>\n",
       "      <td>Female</td>\n",
       "      <td>Master</td>\n",
       "      <td>82468</td>\n",
       "      <td>Aruba</td>\n",
       "      <td>0.6</td>\n",
       "      <td>12674.040</td>\n",
       "    </tr>\n",
       "    <tr>\n",
       "      <th>2</th>\n",
       "      <td>Dwayne Moreno</td>\n",
       "      <td>55</td>\n",
       "      <td>Male</td>\n",
       "      <td>Bachelor</td>\n",
       "      <td>56941</td>\n",
       "      <td>Cyprus</td>\n",
       "      <td>0.3</td>\n",
       "      <td>5354.115</td>\n",
       "    </tr>\n",
       "    <tr>\n",
       "      <th>3</th>\n",
       "      <td>Amy Norton</td>\n",
       "      <td>24</td>\n",
       "      <td>Female</td>\n",
       "      <td>Bachelor</td>\n",
       "      <td>60651</td>\n",
       "      <td>Palau</td>\n",
       "      <td>0.2</td>\n",
       "      <td>2606.510</td>\n",
       "    </tr>\n",
       "    <tr>\n",
       "      <th>4</th>\n",
       "      <td>Tonya Adams</td>\n",
       "      <td>64</td>\n",
       "      <td>Male</td>\n",
       "      <td>Master</td>\n",
       "      <td>81884</td>\n",
       "      <td>Zambia</td>\n",
       "      <td>0.9</td>\n",
       "      <td>18984.780</td>\n",
       "    </tr>\n",
       "    <tr>\n",
       "      <th>...</th>\n",
       "      <td>...</td>\n",
       "      <td>...</td>\n",
       "      <td>...</td>\n",
       "      <td>...</td>\n",
       "      <td>...</td>\n",
       "      <td>...</td>\n",
       "      <td>...</td>\n",
       "      <td>...</td>\n",
       "    </tr>\n",
       "    <tr>\n",
       "      <th>995</th>\n",
       "      <td>Jason Haas</td>\n",
       "      <td>42</td>\n",
       "      <td>Female</td>\n",
       "      <td>PhD</td>\n",
       "      <td>98170</td>\n",
       "      <td>Bosnia and Herzegovina</td>\n",
       "      <td>0.7</td>\n",
       "      <td>17435.950</td>\n",
       "    </tr>\n",
       "    <tr>\n",
       "      <th>996</th>\n",
       "      <td>Sharon Valdez</td>\n",
       "      <td>39</td>\n",
       "      <td>Male</td>\n",
       "      <td>High School</td>\n",
       "      <td>59174</td>\n",
       "      <td>Eritrea</td>\n",
       "      <td>0.9</td>\n",
       "      <td>11662.830</td>\n",
       "    </tr>\n",
       "    <tr>\n",
       "      <th>997</th>\n",
       "      <td>Andrew Taylor</td>\n",
       "      <td>50</td>\n",
       "      <td>Male</td>\n",
       "      <td>Master</td>\n",
       "      <td>59808</td>\n",
       "      <td>Serbia</td>\n",
       "      <td>0.4</td>\n",
       "      <td>7196.160</td>\n",
       "    </tr>\n",
       "    <tr>\n",
       "      <th>998</th>\n",
       "      <td>Jessica Johnson</td>\n",
       "      <td>50</td>\n",
       "      <td>Female</td>\n",
       "      <td>Master</td>\n",
       "      <td>58272</td>\n",
       "      <td>Cyprus</td>\n",
       "      <td>0.7</td>\n",
       "      <td>13939.520</td>\n",
       "    </tr>\n",
       "    <tr>\n",
       "      <th>999</th>\n",
       "      <td>Brian Williams</td>\n",
       "      <td>38</td>\n",
       "      <td>Female</td>\n",
       "      <td>Bachelor</td>\n",
       "      <td>32512</td>\n",
       "      <td>Turkey</td>\n",
       "      <td>0.5</td>\n",
       "      <td>8312.800</td>\n",
       "    </tr>\n",
       "  </tbody>\n",
       "</table>\n",
       "<p>1000 rows × 8 columns</p>\n",
       "</div>"
      ],
      "text/plain": [
       "                   name  age  gender    education  income  \\\n",
       "0    Teresa Williams MD   42  Female  High School   53936   \n",
       "1       Christine Myers   49  Female       Master   82468   \n",
       "2         Dwayne Moreno   55    Male     Bachelor   56941   \n",
       "3            Amy Norton   24  Female     Bachelor   60651   \n",
       "4           Tonya Adams   64    Male       Master   81884   \n",
       "..                  ...  ...     ...          ...     ...   \n",
       "995          Jason Haas   42  Female          PhD   98170   \n",
       "996       Sharon Valdez   39    Male  High School   59174   \n",
       "997       Andrew Taylor   50    Male       Master   59808   \n",
       "998     Jessica Johnson   50  Female       Master   58272   \n",
       "999      Brian Williams   38  Female     Bachelor   32512   \n",
       "\n",
       "                    country  purchase_frequency   spending  \n",
       "0                  Slovenia                 0.9  13227.120  \n",
       "1                     Aruba                 0.6  12674.040  \n",
       "2                    Cyprus                 0.3   5354.115  \n",
       "3                     Palau                 0.2   2606.510  \n",
       "4                    Zambia                 0.9  18984.780  \n",
       "..                      ...                 ...        ...  \n",
       "995  Bosnia and Herzegovina                 0.7  17435.950  \n",
       "996                 Eritrea                 0.9  11662.830  \n",
       "997                  Serbia                 0.4   7196.160  \n",
       "998                  Cyprus                 0.7  13939.520  \n",
       "999                  Turkey                 0.5   8312.800  \n",
       "\n",
       "[1000 rows x 8 columns]"
      ]
     },
     "execution_count": 108,
     "metadata": {},
     "output_type": "execute_result"
    }
   ],
   "source": [
    "data=data.drop_duplicates()\n",
    "data"
   ]
  },
  {
   "cell_type": "code",
   "execution_count": null,
   "id": "a4cbeb71",
   "metadata": {},
   "outputs": [],
   "source": [
    "## Get overall statistics about the dataframe"
   ]
  },
  {
   "cell_type": "code",
   "execution_count": 109,
   "id": "524b72f0",
   "metadata": {},
   "outputs": [
    {
     "data": {
      "text/html": [
       "<div>\n",
       "<style scoped>\n",
       "    .dataframe tbody tr th:only-of-type {\n",
       "        vertical-align: middle;\n",
       "    }\n",
       "\n",
       "    .dataframe tbody tr th {\n",
       "        vertical-align: top;\n",
       "    }\n",
       "\n",
       "    .dataframe thead th {\n",
       "        text-align: right;\n",
       "    }\n",
       "</style>\n",
       "<table border=\"1\" class=\"dataframe\">\n",
       "  <thead>\n",
       "    <tr style=\"text-align: right;\">\n",
       "      <th></th>\n",
       "      <th>age</th>\n",
       "      <th>income</th>\n",
       "      <th>purchase_frequency</th>\n",
       "      <th>spending</th>\n",
       "    </tr>\n",
       "  </thead>\n",
       "  <tbody>\n",
       "    <tr>\n",
       "      <th>count</th>\n",
       "      <td>1000.000000</td>\n",
       "      <td>1000.000000</td>\n",
       "      <td>1000.000000</td>\n",
       "      <td>1000.000000</td>\n",
       "    </tr>\n",
       "    <tr>\n",
       "      <th>mean</th>\n",
       "      <td>41.754000</td>\n",
       "      <td>59277.852000</td>\n",
       "      <td>0.554600</td>\n",
       "      <td>9613.296835</td>\n",
       "    </tr>\n",
       "    <tr>\n",
       "      <th>std</th>\n",
       "      <td>13.778582</td>\n",
       "      <td>23258.377128</td>\n",
       "      <td>0.284675</td>\n",
       "      <td>5484.707210</td>\n",
       "    </tr>\n",
       "    <tr>\n",
       "      <th>min</th>\n",
       "      <td>18.000000</td>\n",
       "      <td>20031.000000</td>\n",
       "      <td>0.100000</td>\n",
       "      <td>611.985000</td>\n",
       "    </tr>\n",
       "    <tr>\n",
       "      <th>25%</th>\n",
       "      <td>30.000000</td>\n",
       "      <td>38825.500000</td>\n",
       "      <td>0.300000</td>\n",
       "      <td>5020.425000</td>\n",
       "    </tr>\n",
       "    <tr>\n",
       "      <th>50%</th>\n",
       "      <td>42.000000</td>\n",
       "      <td>58972.000000</td>\n",
       "      <td>0.600000</td>\n",
       "      <td>9430.395000</td>\n",
       "    </tr>\n",
       "    <tr>\n",
       "      <th>75%</th>\n",
       "      <td>54.000000</td>\n",
       "      <td>79114.000000</td>\n",
       "      <td>0.800000</td>\n",
       "      <td>13645.507500</td>\n",
       "    </tr>\n",
       "    <tr>\n",
       "      <th>max</th>\n",
       "      <td>65.000000</td>\n",
       "      <td>99780.000000</td>\n",
       "      <td>1.000000</td>\n",
       "      <td>25546.500000</td>\n",
       "    </tr>\n",
       "  </tbody>\n",
       "</table>\n",
       "</div>"
      ],
      "text/plain": [
       "               age        income  purchase_frequency      spending\n",
       "count  1000.000000   1000.000000         1000.000000   1000.000000\n",
       "mean     41.754000  59277.852000            0.554600   9613.296835\n",
       "std      13.778582  23258.377128            0.284675   5484.707210\n",
       "min      18.000000  20031.000000            0.100000    611.985000\n",
       "25%      30.000000  38825.500000            0.300000   5020.425000\n",
       "50%      42.000000  58972.000000            0.600000   9430.395000\n",
       "75%      54.000000  79114.000000            0.800000  13645.507500\n",
       "max      65.000000  99780.000000            1.000000  25546.500000"
      ]
     },
     "execution_count": 109,
     "metadata": {},
     "output_type": "execute_result"
    }
   ],
   "source": [
    "data.describe()"
   ]
  },
  {
   "cell_type": "code",
   "execution_count": null,
   "id": "8a6e26ad",
   "metadata": {},
   "outputs": [],
   "source": [
    "## Display name of the customer having spending >= 10000"
   ]
  },
  {
   "cell_type": "code",
   "execution_count": 111,
   "id": "261cfbf9",
   "metadata": {},
   "outputs": [
    {
     "data": {
      "text/plain": [
       "Index(['name', 'age', 'gender', 'education', 'income', 'country',\n",
       "       'purchase_frequency', 'spending'],\n",
       "      dtype='object')"
      ]
     },
     "execution_count": 111,
     "metadata": {},
     "output_type": "execute_result"
    }
   ],
   "source": [
    "data.columns"
   ]
  },
  {
   "cell_type": "code",
   "execution_count": 119,
   "id": "03003474",
   "metadata": {},
   "outputs": [
    {
     "data": {
      "text/plain": [
       "0      False\n",
       "1      False\n",
       "2      False\n",
       "3      False\n",
       "4      False\n",
       "       ...  \n",
       "995    False\n",
       "996    False\n",
       "997    False\n",
       "998    False\n",
       "999    False\n",
       "Name: spending, Length: 1000, dtype: bool"
      ]
     },
     "execution_count": 119,
     "metadata": {},
     "output_type": "execute_result"
    }
   ],
   "source": [
    "data['spending']>=20000"
   ]
  },
  {
   "cell_type": "code",
   "execution_count": 120,
   "id": "7e5d1976",
   "metadata": {},
   "outputs": [
    {
     "data": {
      "text/plain": [
       "6              Misty Moody\n",
       "40             Eric Farmer\n",
       "89             Susan Perez\n",
       "213       Jennifer Johnson\n",
       "273           Jason Meyers\n",
       "303          Matthew Lopez\n",
       "386         Rebecca Palmer\n",
       "465             Terry Meza\n",
       "473           Rodney Bowen\n",
       "510         Jessica Nguyen\n",
       "514            Angela Soto\n",
       "529          Clayton Weber\n",
       "591       Brandy Grant DDS\n",
       "616          Johnny Torres\n",
       "676    Cassandra Armstrong\n",
       "689         Denise Manning\n",
       "693         Melissa Atkins\n",
       "699             Connor Lee\n",
       "739      Katherine Parrish\n",
       "789        Andrea Harrison\n",
       "794          Sylvia Hughes\n",
       "816         Timothy Miller\n",
       "848          Brent Chapman\n",
       "865      Robert Macias DVM\n",
       "871     Mrs. Helen Sanchez\n",
       "926       Veronica Sellers\n",
       "927           Lisa Hendrix\n",
       "940        Jonathon Holder\n",
       "958      Christopher Jones\n",
       "Name: name, dtype: object"
      ]
     },
     "execution_count": 120,
     "metadata": {},
     "output_type": "execute_result"
    }
   ],
   "source": [
    "data[data['spending']>=20000]['name']"
   ]
  },
  {
   "cell_type": "code",
   "execution_count": 122,
   "id": "3c10ecfc",
   "metadata": {},
   "outputs": [
    {
     "data": {
      "text/plain": [
       "1         Christine Myers\n",
       "4             Tonya Adams\n",
       "6             Misty Moody\n",
       "10        Samantha Bailey\n",
       "11     Christopher Wright\n",
       "              ...        \n",
       "985            Rodney May\n",
       "986       Kimberly Howard\n",
       "992       Vincent Wallace\n",
       "993       Jennifer Malone\n",
       "995            Jason Haas\n",
       "Name: name, Length: 362, dtype: object"
      ]
     },
     "execution_count": 122,
     "metadata": {},
     "output_type": "execute_result"
    }
   ],
   "source": [
    "data[data['income']>=70000]['name']"
   ]
  },
  {
   "cell_type": "code",
   "execution_count": 42,
   "id": "2dd92392",
   "metadata": {},
   "outputs": [],
   "source": [
    "## In which country was there the 10 highest average spending"
   ]
  },
  {
   "cell_type": "code",
   "execution_count": 123,
   "id": "381d84ff",
   "metadata": {},
   "outputs": [
    {
     "data": {
      "text/plain": [
       "Index(['name', 'age', 'gender', 'education', 'income', 'country',\n",
       "       'purchase_frequency', 'spending'],\n",
       "      dtype='object')"
      ]
     },
     "execution_count": 123,
     "metadata": {},
     "output_type": "execute_result"
    }
   ],
   "source": [
    "data.columns"
   ]
  },
  {
   "cell_type": "code",
   "execution_count": 124,
   "id": "ef052093",
   "metadata": {},
   "outputs": [
    {
     "data": {
      "text/plain": [
       "country\n",
       "Saint Helena                   24055.785000\n",
       "Hungary                        19438.792500\n",
       "Saint Lucia                    19405.715000\n",
       "Falkland Islands (Malvinas)    18617.120000\n",
       "Thailand                       17015.412500\n",
       "                                   ...     \n",
       "American Samoa                  3278.758333\n",
       "Brunei Darussalam               3259.120000\n",
       "Mali                            3250.640000\n",
       "Chad                            3246.185000\n",
       "Vanuatu                         2355.105000\n",
       "Name: spending, Length: 239, dtype: float64"
      ]
     },
     "execution_count": 124,
     "metadata": {},
     "output_type": "execute_result"
    }
   ],
   "source": [
    "data.groupby('country')['spending'].mean().sort_values(ascending=False)"
   ]
  },
  {
   "cell_type": "code",
   "execution_count": 125,
   "id": "434618ab",
   "metadata": {},
   "outputs": [
    {
     "data": {
      "text/plain": [
       "country\n",
       "Saint Helena                    94573.000000\n",
       "Uzbekistan                      93860.000000\n",
       "Dominica                        93609.000000\n",
       "Indonesia                       92173.500000\n",
       "Slovakia (Slovak Republic)      85814.000000\n",
       "                                    ...     \n",
       "American Samoa                  32554.666667\n",
       "Cayman Islands                  25549.000000\n",
       "Mali                            25064.000000\n",
       "United States Virgin Islands    23946.000000\n",
       "Cameroon                        22754.000000\n",
       "Name: income, Length: 239, dtype: float64"
      ]
     },
     "execution_count": 125,
     "metadata": {},
     "output_type": "execute_result"
    }
   ],
   "source": [
    "data.groupby('country')['income'].mean().sort_values(ascending=False)"
   ]
  },
  {
   "cell_type": "code",
   "execution_count": 142,
   "id": "15b6acb8",
   "metadata": {},
   "outputs": [
    {
     "data": {
      "text/plain": [
       "country\n",
       "Saint Helena                   24055.78500\n",
       "Hungary                        19438.79250\n",
       "Saint Lucia                    19405.71500\n",
       "Falkland Islands (Malvinas)    18617.12000\n",
       "Thailand                       17015.41250\n",
       "Bhutan                         15598.96000\n",
       "Uganda                         15529.62250\n",
       "Peru                           15451.08700\n",
       "Niue                           15261.35125\n",
       "Vietnam                        15176.63875\n",
       "Name: spending, dtype: float64"
      ]
     },
     "execution_count": 142,
     "metadata": {},
     "output_type": "execute_result"
    }
   ],
   "source": [
    "data.groupby('country')['spending'].mean().sort_values(ascending=False).nlargest(10)\n"
   ]
  },
  {
   "cell_type": "code",
   "execution_count": 182,
   "id": "de36f226",
   "metadata": {},
   "outputs": [
    {
     "data": {
      "image/png": "[encoded data removed]",
      "text/plain": [
       "<Figure size 640x480 with 1 Axes>"
      ]
     },
     "metadata": {},
     "output_type": "display_data"
    }
   ],
   "source": [
    "sns.barplot(x='spending', y='country', data=data.nlargest(10,'spending'))\n",
    "plt.title(\"Spending by Country\")\n",
    "plt.show()"
   ]
  },
  {
   "cell_type": "code",
   "execution_count": 207,
   "id": "5e2df141",
   "metadata": {},
   "outputs": [
    {
     "data": {
      "text/plain": [
       "<matplotlib.legend.Legend at 0x20692fc6e30>"
      ]
     },
     "execution_count": 207,
     "metadata": {},
     "output_type": "execute_result"
    },
    {
     "data": {
      "image/png": "[encoded data removed]",
      "text/plain": [
       "<Figure size 640x480 with 1 Axes>"
      ]
     },
     "metadata": {},
     "output_type": "display_data"
    }
   ],
   "source": [
    "sns.barplot(x='spending', y='country', hue='gender', dodge=False, data=data.nlargest(10,'spending'))\n",
    "plt.title('Spending by Country')\n",
    "plt.legend(bbox_to_anchor=(1.05,1),loc=2)"
   ]
  },
  {
   "cell_type": "code",
   "execution_count": 153,
   "id": "71a99157",
   "metadata": {},
   "outputs": [
    {
     "data": {
      "text/plain": [
       "<Axes: xlabel='spending', ylabel='country'>"
      ]
     },
     "execution_count": 153,
     "metadata": {},
     "output_type": "execute_result"
    },
    {
     "data": {
      "image/png": "[encoded data removed]",
      "text/plain": [
       "<Figure size 640x480 with 1 Axes>"
      ]
     },
     "metadata": {},
     "output_type": "display_data"
    }
   ],
   "source": [
    "sns.barplot(x='spending', y='country', data=data.nsmallest(10,'spending'))"
   ]
  },
  {
   "cell_type": "code",
   "execution_count": 155,
   "id": "01dbaff1",
   "metadata": {},
   "outputs": [
    {
     "data": {
      "text/plain": [
       "<Axes: xlabel='spending', ylabel='country'>"
      ]
     },
     "execution_count": 155,
     "metadata": {},
     "output_type": "execute_result"
    },
    {
     "data": {
      "image/png": "[encoded data removed]",
      "text/plain": [
       "<Figure size 640x480 with 1 Axes>"
      ]
     },
     "metadata": {},
     "output_type": "display_data"
    }
   ],
   "source": [
    "sns.barplot(x='spending', y='country', hue='gender', data=data.nsmallest(10,'spending'))"
   ]
  },
  {
   "cell_type": "code",
   "execution_count": null,
   "id": "8ebd47fb",
   "metadata": {},
   "outputs": [],
   "source": [
    "## In which country was there the 10 highest average income "
   ]
  },
  {
   "cell_type": "code",
   "execution_count": 159,
   "id": "90f6d909",
   "metadata": {},
   "outputs": [
    {
     "data": {
      "text/plain": [
       "country\n",
       "Saint Helena                  94573.00\n",
       "Uzbekistan                    93860.00\n",
       "Dominica                      93609.00\n",
       "Indonesia                     92173.50\n",
       "Slovakia (Slovak Republic)    85814.00\n",
       "Suriname                      85056.00\n",
       "Moldova                       84986.25\n",
       "Trinidad and Tobago           84563.50\n",
       "Nepal                         83441.00\n",
       "Uganda                        82664.00\n",
       "Name: income, dtype: float64"
      ]
     },
     "execution_count": 159,
     "metadata": {},
     "output_type": "execute_result"
    }
   ],
   "source": [
    "data.groupby('country')['income'].mean().sort_values(ascending=False).nlargest(10)"
   ]
  },
  {
   "cell_type": "code",
   "execution_count": 158,
   "id": "ab53b71b",
   "metadata": {},
   "outputs": [
    {
     "data": {
      "image/png": "[encoded data removed]",
      "text/plain": [
       "<Figure size 640x480 with 1 Axes>"
      ]
     },
     "metadata": {},
     "output_type": "display_data"
    }
   ],
   "source": [
    "sns.barplot(x='income', y='country', data=data.nlargest(10,'income'))\n",
    "plt.title(\"Income by Country\")\n",
    "plt.show()"
   ]
  },
  {
   "cell_type": "code",
   "execution_count": 160,
   "id": "7949af85",
   "metadata": {},
   "outputs": [
    {
     "data": {
      "text/plain": [
       "Index(['name', 'age', 'gender', 'education', 'income', 'country',\n",
       "       'purchase_frequency', 'spending'],\n",
       "      dtype='object')"
      ]
     },
     "execution_count": 160,
     "metadata": {},
     "output_type": "execute_result"
    }
   ],
   "source": [
    "data.columns"
   ]
  },
  {
   "cell_type": "code",
   "execution_count": null,
   "id": "db2f09dc",
   "metadata": {},
   "outputs": [],
   "source": [
    "Find the top customer with highest purchasing frequency"
   ]
  },
  {
   "cell_type": "code",
   "execution_count": 168,
   "id": "9867ba70",
   "metadata": {},
   "outputs": [
    {
     "data": {
      "text/plain": [
       "name                  \n",
       "Aaron Hughes       474    0.3\n",
       "Aaron Martin       670    0.5\n",
       "Abigail Hood       521    0.5\n",
       "Abigail Shaw       245    0.3\n",
       "Adam Frazier       758    0.6\n",
       "                         ... \n",
       "Willie Lawson PhD  337    0.8\n",
       "Willie Tyler       633    0.5\n",
       "Yolanda Thompson   508    0.5\n",
       "Zachary Mason      599    0.7\n",
       "Zachary Romero     321    0.8\n",
       "Name: purchase_frequency, Length: 1000, dtype: float64"
      ]
     },
     "execution_count": 168,
     "metadata": {},
     "output_type": "execute_result"
    }
   ],
   "source": [
    "data.groupby('name')['purchase_frequency'].nlargest(10)"
   ]
  },
  {
   "cell_type": "code",
   "execution_count": 171,
   "id": "c6228eba",
   "metadata": {},
   "outputs": [
    {
     "data": {
      "text/html": [
       "<div>\n",
       "<style scoped>\n",
       "    .dataframe tbody tr th:only-of-type {\n",
       "        vertical-align: middle;\n",
       "    }\n",
       "\n",
       "    .dataframe tbody tr th {\n",
       "        vertical-align: top;\n",
       "    }\n",
       "\n",
       "    .dataframe thead th {\n",
       "        text-align: right;\n",
       "    }\n",
       "</style>\n",
       "<table border=\"1\" class=\"dataframe\">\n",
       "  <thead>\n",
       "    <tr style=\"text-align: right;\">\n",
       "      <th></th>\n",
       "      <th>name</th>\n",
       "      <th>purchase_frequency</th>\n",
       "    </tr>\n",
       "  </thead>\n",
       "  <tbody>\n",
       "    <tr>\n",
       "      <th>5</th>\n",
       "      <td>Charles Smith</td>\n",
       "      <td>1.0</td>\n",
       "    </tr>\n",
       "    <tr>\n",
       "      <th>9</th>\n",
       "      <td>Brian Townsend</td>\n",
       "      <td>1.0</td>\n",
       "    </tr>\n",
       "    <tr>\n",
       "      <th>20</th>\n",
       "      <td>Kathleen Mata</td>\n",
       "      <td>1.0</td>\n",
       "    </tr>\n",
       "    <tr>\n",
       "      <th>40</th>\n",
       "      <td>Eric Farmer</td>\n",
       "      <td>1.0</td>\n",
       "    </tr>\n",
       "    <tr>\n",
       "      <th>58</th>\n",
       "      <td>Amber Jensen</td>\n",
       "      <td>1.0</td>\n",
       "    </tr>\n",
       "    <tr>\n",
       "      <th>76</th>\n",
       "      <td>Karen Jackson</td>\n",
       "      <td>1.0</td>\n",
       "    </tr>\n",
       "    <tr>\n",
       "      <th>82</th>\n",
       "      <td>Courtney Young</td>\n",
       "      <td>1.0</td>\n",
       "    </tr>\n",
       "    <tr>\n",
       "      <th>87</th>\n",
       "      <td>Jessica Oliver</td>\n",
       "      <td>1.0</td>\n",
       "    </tr>\n",
       "    <tr>\n",
       "      <th>89</th>\n",
       "      <td>Susan Perez</td>\n",
       "      <td>1.0</td>\n",
       "    </tr>\n",
       "    <tr>\n",
       "      <th>120</th>\n",
       "      <td>Rodney Miller</td>\n",
       "      <td>1.0</td>\n",
       "    </tr>\n",
       "  </tbody>\n",
       "</table>\n",
       "</div>"
      ],
      "text/plain": [
       "               name  purchase_frequency\n",
       "5     Charles Smith                 1.0\n",
       "9    Brian Townsend                 1.0\n",
       "20    Kathleen Mata                 1.0\n",
       "40      Eric Farmer                 1.0\n",
       "58     Amber Jensen                 1.0\n",
       "76    Karen Jackson                 1.0\n",
       "82   Courtney Young                 1.0\n",
       "87   Jessica Oliver                 1.0\n",
       "89      Susan Perez                 1.0\n",
       "120   Rodney Miller                 1.0"
      ]
     },
     "execution_count": 171,
     "metadata": {},
     "output_type": "execute_result"
    }
   ],
   "source": [
    "Top10_len=data.nlargest(10,'purchase_frequency')[['name','purchase_frequency']]\n",
    "Top10_len"
   ]
  },
  {
   "cell_type": "code",
   "execution_count": 172,
   "id": "46fa71a0",
   "metadata": {},
   "outputs": [
    {
     "data": {
      "text/html": [
       "<div>\n",
       "<style scoped>\n",
       "    .dataframe tbody tr th:only-of-type {\n",
       "        vertical-align: middle;\n",
       "    }\n",
       "\n",
       "    .dataframe tbody tr th {\n",
       "        vertical-align: top;\n",
       "    }\n",
       "\n",
       "    .dataframe thead th {\n",
       "        text-align: right;\n",
       "    }\n",
       "</style>\n",
       "<table border=\"1\" class=\"dataframe\">\n",
       "  <thead>\n",
       "    <tr style=\"text-align: right;\">\n",
       "      <th></th>\n",
       "      <th>purchase_frequency</th>\n",
       "    </tr>\n",
       "    <tr>\n",
       "      <th>name</th>\n",
       "      <th></th>\n",
       "    </tr>\n",
       "  </thead>\n",
       "  <tbody>\n",
       "    <tr>\n",
       "      <th>Charles Smith</th>\n",
       "      <td>1.0</td>\n",
       "    </tr>\n",
       "    <tr>\n",
       "      <th>Brian Townsend</th>\n",
       "      <td>1.0</td>\n",
       "    </tr>\n",
       "    <tr>\n",
       "      <th>Kathleen Mata</th>\n",
       "      <td>1.0</td>\n",
       "    </tr>\n",
       "    <tr>\n",
       "      <th>Eric Farmer</th>\n",
       "      <td>1.0</td>\n",
       "    </tr>\n",
       "    <tr>\n",
       "      <th>Amber Jensen</th>\n",
       "      <td>1.0</td>\n",
       "    </tr>\n",
       "    <tr>\n",
       "      <th>Karen Jackson</th>\n",
       "      <td>1.0</td>\n",
       "    </tr>\n",
       "    <tr>\n",
       "      <th>Courtney Young</th>\n",
       "      <td>1.0</td>\n",
       "    </tr>\n",
       "    <tr>\n",
       "      <th>Jessica Oliver</th>\n",
       "      <td>1.0</td>\n",
       "    </tr>\n",
       "    <tr>\n",
       "      <th>Susan Perez</th>\n",
       "      <td>1.0</td>\n",
       "    </tr>\n",
       "    <tr>\n",
       "      <th>Rodney Miller</th>\n",
       "      <td>1.0</td>\n",
       "    </tr>\n",
       "  </tbody>\n",
       "</table>\n",
       "</div>"
      ],
      "text/plain": [
       "                purchase_frequency\n",
       "name                              \n",
       "Charles Smith                  1.0\n",
       "Brian Townsend                 1.0\n",
       "Kathleen Mata                  1.0\n",
       "Eric Farmer                    1.0\n",
       "Amber Jensen                   1.0\n",
       "Karen Jackson                  1.0\n",
       "Courtney Young                 1.0\n",
       "Jessica Oliver                 1.0\n",
       "Susan Perez                    1.0\n",
       "Rodney Miller                  1.0"
      ]
     },
     "execution_count": 172,
     "metadata": {},
     "output_type": "execute_result"
    }
   ],
   "source": [
    "Top10_len=data.nlargest(10,'purchase_frequency')[['name','purchase_frequency']]\\\n",
    ".set_index('name')\n",
    "Top10_len"
   ]
  },
  {
   "cell_type": "code",
   "execution_count": 176,
   "id": "61cc5278",
   "metadata": {},
   "outputs": [
    {
     "data": {
      "text/html": [
       "<div>\n",
       "<style scoped>\n",
       "    .dataframe tbody tr th:only-of-type {\n",
       "        vertical-align: middle;\n",
       "    }\n",
       "\n",
       "    .dataframe tbody tr th {\n",
       "        vertical-align: top;\n",
       "    }\n",
       "\n",
       "    .dataframe thead th {\n",
       "        text-align: right;\n",
       "    }\n",
       "</style>\n",
       "<table border=\"1\" class=\"dataframe\">\n",
       "  <thead>\n",
       "    <tr style=\"text-align: right;\">\n",
       "      <th></th>\n",
       "      <th>gender</th>\n",
       "      <th>spending</th>\n",
       "    </tr>\n",
       "    <tr>\n",
       "      <th>name</th>\n",
       "      <th></th>\n",
       "      <th></th>\n",
       "    </tr>\n",
       "  </thead>\n",
       "  <tbody>\n",
       "    <tr>\n",
       "      <th>Susan Perez</th>\n",
       "      <td>Female</td>\n",
       "      <td>25546.500</td>\n",
       "    </tr>\n",
       "    <tr>\n",
       "      <th>Katherine Parrish</th>\n",
       "      <td>Female</td>\n",
       "      <td>25080.750</td>\n",
       "    </tr>\n",
       "    <tr>\n",
       "      <th>Mrs. Helen Sanchez</th>\n",
       "      <td>Male</td>\n",
       "      <td>24739.800</td>\n",
       "    </tr>\n",
       "    <tr>\n",
       "      <th>Angela Soto</th>\n",
       "      <td>Female</td>\n",
       "      <td>24560.800</td>\n",
       "    </tr>\n",
       "    <tr>\n",
       "      <th>Connor Lee</th>\n",
       "      <td>Female</td>\n",
       "      <td>24506.850</td>\n",
       "    </tr>\n",
       "    <tr>\n",
       "      <th>Rodney Bowen</th>\n",
       "      <td>Female</td>\n",
       "      <td>24153.900</td>\n",
       "    </tr>\n",
       "    <tr>\n",
       "      <th>Brandy Grant DDS</th>\n",
       "      <td>Female</td>\n",
       "      <td>24055.785</td>\n",
       "    </tr>\n",
       "    <tr>\n",
       "      <th>Eric Farmer</th>\n",
       "      <td>Female</td>\n",
       "      <td>23868.400</td>\n",
       "    </tr>\n",
       "    <tr>\n",
       "      <th>Jason Meyers</th>\n",
       "      <td>Female</td>\n",
       "      <td>23342.300</td>\n",
       "    </tr>\n",
       "    <tr>\n",
       "      <th>Jessica Nguyen</th>\n",
       "      <td>Male</td>\n",
       "      <td>23066.000</td>\n",
       "    </tr>\n",
       "  </tbody>\n",
       "</table>\n",
       "</div>"
      ],
      "text/plain": [
       "                    gender   spending\n",
       "name                                 \n",
       "Susan Perez         Female  25546.500\n",
       "Katherine Parrish   Female  25080.750\n",
       "Mrs. Helen Sanchez    Male  24739.800\n",
       "Angela Soto         Female  24560.800\n",
       "Connor Lee          Female  24506.850\n",
       "Rodney Bowen        Female  24153.900\n",
       "Brandy Grant DDS    Female  24055.785\n",
       "Eric Farmer         Female  23868.400\n",
       "Jason Meyers        Female  23342.300\n",
       "Jessica Nguyen        Male  23066.000"
      ]
     },
     "execution_count": 176,
     "metadata": {},
     "output_type": "execute_result"
    }
   ],
   "source": [
    "Top10_len=data.nlargest(10,'spending')[['name','gender','spending']]\\\n",
    ".set_index('name')\n",
    "Top10_len"
   ]
  },
  {
   "cell_type": "code",
   "execution_count": 175,
   "id": "3811f942",
   "metadata": {},
   "outputs": [
    {
     "data": {
      "text/html": [
       "<div>\n",
       "<style scoped>\n",
       "    .dataframe tbody tr th:only-of-type {\n",
       "        vertical-align: middle;\n",
       "    }\n",
       "\n",
       "    .dataframe tbody tr th {\n",
       "        vertical-align: top;\n",
       "    }\n",
       "\n",
       "    .dataframe thead th {\n",
       "        text-align: right;\n",
       "    }\n",
       "</style>\n",
       "<table border=\"1\" class=\"dataframe\">\n",
       "  <thead>\n",
       "    <tr style=\"text-align: right;\">\n",
       "      <th></th>\n",
       "      <th>gender</th>\n",
       "      <th>income</th>\n",
       "    </tr>\n",
       "    <tr>\n",
       "      <th>name</th>\n",
       "      <th></th>\n",
       "      <th></th>\n",
       "    </tr>\n",
       "  </thead>\n",
       "  <tbody>\n",
       "    <tr>\n",
       "      <th>Kristopher Brown</th>\n",
       "      <td>Female</td>\n",
       "      <td>99780</td>\n",
       "    </tr>\n",
       "    <tr>\n",
       "      <th>Ashley Maldonado</th>\n",
       "      <td>Female</td>\n",
       "      <td>99775</td>\n",
       "    </tr>\n",
       "    <tr>\n",
       "      <th>Olivia Petty</th>\n",
       "      <td>Female</td>\n",
       "      <td>99692</td>\n",
       "    </tr>\n",
       "    <tr>\n",
       "      <th>James Brown</th>\n",
       "      <td>Male</td>\n",
       "      <td>99582</td>\n",
       "    </tr>\n",
       "    <tr>\n",
       "      <th>Edward Riggs</th>\n",
       "      <td>Male</td>\n",
       "      <td>99532</td>\n",
       "    </tr>\n",
       "    <tr>\n",
       "      <th>Carolyn Simon</th>\n",
       "      <td>Male</td>\n",
       "      <td>99484</td>\n",
       "    </tr>\n",
       "    <tr>\n",
       "      <th>Andrea Thomas</th>\n",
       "      <td>Male</td>\n",
       "      <td>99376</td>\n",
       "    </tr>\n",
       "    <tr>\n",
       "      <th>Shannon Davis</th>\n",
       "      <td>Male</td>\n",
       "      <td>99329</td>\n",
       "    </tr>\n",
       "    <tr>\n",
       "      <th>Gordon Jacobson</th>\n",
       "      <td>Male</td>\n",
       "      <td>99292</td>\n",
       "    </tr>\n",
       "    <tr>\n",
       "      <th>Tammy Kennedy</th>\n",
       "      <td>Male</td>\n",
       "      <td>99230</td>\n",
       "    </tr>\n",
       "  </tbody>\n",
       "</table>\n",
       "</div>"
      ],
      "text/plain": [
       "                  gender  income\n",
       "name                            \n",
       "Kristopher Brown  Female   99780\n",
       "Ashley Maldonado  Female   99775\n",
       "Olivia Petty      Female   99692\n",
       "James Brown         Male   99582\n",
       "Edward Riggs        Male   99532\n",
       "Carolyn Simon       Male   99484\n",
       "Andrea Thomas       Male   99376\n",
       "Shannon Davis       Male   99329\n",
       "Gordon Jacobson     Male   99292\n",
       "Tammy Kennedy       Male   99230"
      ]
     },
     "execution_count": 175,
     "metadata": {},
     "output_type": "execute_result"
    }
   ],
   "source": [
    "Top10_len=data.nlargest(10,'income')[['name','gender','income']]\\\n",
    ".set_index('name')\n",
    "Top10_len"
   ]
  },
  {
   "cell_type": "code",
   "execution_count": 181,
   "id": "48cf3ba2",
   "metadata": {},
   "outputs": [
    {
     "data": {
      "image/png": "[encoded data removed]",
      "text/plain": [
       "<Figure size 640x480 with 1 Axes>"
      ]
     },
     "metadata": {},
     "output_type": "display_data"
    }
   ],
   "source": [
    "sns.barplot(x='spending', y=Top10_len.index,data=Top10_len)\n",
    "plt.title('Highest spending customer')\n",
    "plt.show()"
   ]
  },
  {
   "cell_type": "code",
   "execution_count": null,
   "id": "a1e9e25a",
   "metadata": {},
   "outputs": [],
   "source": [
    "## Does education affect the way the customer spend?"
   ]
  },
  {
   "cell_type": "code",
   "execution_count": 179,
   "id": "a466730a",
   "metadata": {},
   "outputs": [
    {
     "data": {
      "text/plain": [
       "Index(['name', 'age', 'gender', 'education', 'income', 'country',\n",
       "       'purchase_frequency', 'spending'],\n",
       "      dtype='object')"
      ]
     },
     "execution_count": 179,
     "metadata": {},
     "output_type": "execute_result"
    }
   ],
   "source": [
    "data.columns"
   ]
  },
  {
   "cell_type": "code",
   "execution_count": 180,
   "id": "622b3e44",
   "metadata": {},
   "outputs": [
    {
     "data": {
      "text/plain": [
       "education\n",
       "PhD            11251.748347\n",
       "Master         10167.478326\n",
       "Bachelor        9522.349410\n",
       "High School     7521.557837\n",
       "Name: spending, dtype: float64"
      ]
     },
     "execution_count": 180,
     "metadata": {},
     "output_type": "execute_result"
    }
   ],
   "source": [
    "data.groupby('education')['spending'].mean().sort_values(ascending=False)"
   ]
  },
  {
   "cell_type": "code",
   "execution_count": 184,
   "id": "d24f774a",
   "metadata": {},
   "outputs": [
    {
     "data": {
      "image/png": "[encoded data removed]",
      "text/plain": [
       "<Figure size 640x480 with 1 Axes>"
      ]
     },
     "metadata": {},
     "output_type": "display_data"
    }
   ],
   "source": [
    "sns.barplot(x='spending', y='education', data=data)\n",
    "plt.title(\"Education by spending\")\n",
    "plt.show()"
   ]
  },
  {
   "cell_type": "code",
   "execution_count": 210,
   "id": "d8668da7",
   "metadata": {},
   "outputs": [
    {
     "data": {
      "text/plain": [
       "<Axes: xlabel='spending', ylabel='education'>"
      ]
     },
     "execution_count": 210,
     "metadata": {},
     "output_type": "execute_result"
    },
    {
     "data": {
      "image/png": "[encoded data removed]",
      "text/plain": [
       "<Figure size 640x480 with 1 Axes>"
      ]
     },
     "metadata": {},
     "output_type": "display_data"
    }
   ],
   "source": [
    "sns.scatterplot(x='spending',y='education', data=data)"
   ]
  },
  {
   "cell_type": "code",
   "execution_count": null,
   "id": "d0163cf8",
   "metadata": {},
   "outputs": [],
   "source": [
    "## Purchasing frequency as per gender"
   ]
  },
  {
   "cell_type": "code",
   "execution_count": 185,
   "id": "3c828d0d",
   "metadata": {},
   "outputs": [
    {
     "data": {
      "text/plain": [
       "Index(['name', 'age', 'gender', 'education', 'income', 'country',\n",
       "       'purchase_frequency', 'spending'],\n",
       "      dtype='object')"
      ]
     },
     "execution_count": 185,
     "metadata": {},
     "output_type": "execute_result"
    }
   ],
   "source": [
    "data.columns"
   ]
  },
  {
   "cell_type": "code",
   "execution_count": 186,
   "id": "1e3411b2",
   "metadata": {},
   "outputs": [
    {
     "data": {
      "text/plain": [
       "1.0"
      ]
     },
     "execution_count": 186,
     "metadata": {},
     "output_type": "execute_result"
    }
   ],
   "source": [
    "data['purchase_frequency'].max()"
   ]
  },
  {
   "cell_type": "code",
   "execution_count": 194,
   "id": "ca32b5fe",
   "metadata": {},
   "outputs": [
    {
     "data": {
      "text/plain": [
       "gender\n",
       "Male      0.556088\n",
       "Female    0.553106\n",
       "Name: purchase_frequency, dtype: float64"
      ]
     },
     "execution_count": 194,
     "metadata": {},
     "output_type": "execute_result"
    }
   ],
   "source": [
    "data.groupby('gender')['purchase_frequency'].mean().sort_values(ascending=False)"
   ]
  },
  {
   "cell_type": "code",
   "execution_count": 195,
   "id": "72e1def7",
   "metadata": {},
   "outputs": [
    {
     "data": {
      "image/png": "[encoded data removed]",
      "text/plain": [
       "<Figure size 640x480 with 1 Axes>"
      ]
     },
     "metadata": {},
     "output_type": "display_data"
    }
   ],
   "source": [
    "sns.barplot(x='purchase_frequency', y='gender', data=data)\n",
    "plt.title(\"Purchasing frequency per gender\")\n",
    "plt.show()"
   ]
  },
  {
   "cell_type": "code",
   "execution_count": null,
   "id": "54fd5d4f",
   "metadata": {},
   "outputs": [],
   "source": [
    "## Top 10 highest spending customers and their age"
   ]
  },
  {
   "cell_type": "code",
   "execution_count": 196,
   "id": "6b8c988a",
   "metadata": {},
   "outputs": [
    {
     "data": {
      "text/html": [
       "<div>\n",
       "<style scoped>\n",
       "    .dataframe tbody tr th:only-of-type {\n",
       "        vertical-align: middle;\n",
       "    }\n",
       "\n",
       "    .dataframe tbody tr th {\n",
       "        vertical-align: top;\n",
       "    }\n",
       "\n",
       "    .dataframe thead th {\n",
       "        text-align: right;\n",
       "    }\n",
       "</style>\n",
       "<table border=\"1\" class=\"dataframe\">\n",
       "  <thead>\n",
       "    <tr style=\"text-align: right;\">\n",
       "      <th></th>\n",
       "      <th>age</th>\n",
       "      <th>spending</th>\n",
       "    </tr>\n",
       "    <tr>\n",
       "      <th>name</th>\n",
       "      <th></th>\n",
       "      <th></th>\n",
       "    </tr>\n",
       "  </thead>\n",
       "  <tbody>\n",
       "    <tr>\n",
       "      <th>Susan Perez</th>\n",
       "      <td>56</td>\n",
       "      <td>25546.500</td>\n",
       "    </tr>\n",
       "    <tr>\n",
       "      <th>Katherine Parrish</th>\n",
       "      <td>53</td>\n",
       "      <td>25080.750</td>\n",
       "    </tr>\n",
       "    <tr>\n",
       "      <th>Mrs. Helen Sanchez</th>\n",
       "      <td>51</td>\n",
       "      <td>24739.800</td>\n",
       "    </tr>\n",
       "    <tr>\n",
       "      <th>Angela Soto</th>\n",
       "      <td>55</td>\n",
       "      <td>24560.800</td>\n",
       "    </tr>\n",
       "    <tr>\n",
       "      <th>Connor Lee</th>\n",
       "      <td>50</td>\n",
       "      <td>24506.850</td>\n",
       "    </tr>\n",
       "    <tr>\n",
       "      <th>Rodney Bowen</th>\n",
       "      <td>38</td>\n",
       "      <td>24153.900</td>\n",
       "    </tr>\n",
       "    <tr>\n",
       "      <th>Brandy Grant DDS</th>\n",
       "      <td>57</td>\n",
       "      <td>24055.785</td>\n",
       "    </tr>\n",
       "    <tr>\n",
       "      <th>Eric Farmer</th>\n",
       "      <td>57</td>\n",
       "      <td>23868.400</td>\n",
       "    </tr>\n",
       "    <tr>\n",
       "      <th>Jason Meyers</th>\n",
       "      <td>62</td>\n",
       "      <td>23342.300</td>\n",
       "    </tr>\n",
       "    <tr>\n",
       "      <th>Jessica Nguyen</th>\n",
       "      <td>57</td>\n",
       "      <td>23066.000</td>\n",
       "    </tr>\n",
       "  </tbody>\n",
       "</table>\n",
       "</div>"
      ],
      "text/plain": [
       "                    age   spending\n",
       "name                              \n",
       "Susan Perez          56  25546.500\n",
       "Katherine Parrish    53  25080.750\n",
       "Mrs. Helen Sanchez   51  24739.800\n",
       "Angela Soto          55  24560.800\n",
       "Connor Lee           50  24506.850\n",
       "Rodney Bowen         38  24153.900\n",
       "Brandy Grant DDS     57  24055.785\n",
       "Eric Farmer          57  23868.400\n",
       "Jason Meyers         62  23342.300\n",
       "Jessica Nguyen       57  23066.000"
      ]
     },
     "execution_count": 196,
     "metadata": {},
     "output_type": "execute_result"
    }
   ],
   "source": [
    " Top10_len=data.nlargest(10,'spending')[['name','age','spending']]\\\n",
    ".set_index('name')\n",
    "Top10_len"
   ]
  },
  {
   "cell_type": "code",
   "execution_count": 199,
   "id": "2b64dbf4",
   "metadata": {},
   "outputs": [
    {
     "data": {
      "image/png": "[encoded data removed]",
      "text/plain": [
       "<Figure size 640x480 with 1 Axes>"
      ]
     },
     "metadata": {},
     "output_type": "display_data"
    }
   ],
   "source": [
    "sns.barplot(x='age',y=Top10_len.index,data=Top10_len)\n",
    "plt.title(\"Top 10 spending customer and their age\")\n",
    "plt.show()\n"
   ]
  },
  {
   "cell_type": "code",
   "execution_count": 203,
   "id": "b69c8b47",
   "metadata": {},
   "outputs": [
    {
     "data": {
      "text/plain": [
       "<matplotlib.legend.Legend at 0x20693d9fa30>"
      ]
     },
     "execution_count": 203,
     "metadata": {},
     "output_type": "execute_result"
    },
    {
     "data": {
      "image/png": "[encoded data removed]",
      "text/plain": [
       "<Figure size 640x480 with 1 Axes>"
      ]
     },
     "metadata": {},
     "output_type": "display_data"
    }
   ],
   "source": [
    "sns.barplot(x='age',y=Top10_len.index,data=Top10_len,hue='spending',dodge=False)\n",
    "plt.title(\"Top 10 spending customer and their age\")\n",
    "plt.legend(bbox_to_anchor=(1.05,1),loc=2)"
   ]
  },
  {
   "cell_type": "code",
   "execution_count": null,
   "id": "d0cf98c3",
   "metadata": {},
   "outputs": [],
   "source": [
    "## Does income affect the spending?"
   ]
  },
  {
   "cell_type": "code",
   "execution_count": 208,
   "id": "e4d23b97",
   "metadata": {},
   "outputs": [
    {
     "data": {
      "text/plain": [
       "Index(['name', 'age', 'gender', 'education', 'income', 'country',\n",
       "       'purchase_frequency', 'spending'],\n",
       "      dtype='object')"
      ]
     },
     "execution_count": 208,
     "metadata": {},
     "output_type": "execute_result"
    }
   ],
   "source": [
    "data.columns"
   ]
  },
  {
   "cell_type": "code",
   "execution_count": 209,
   "id": "3ed07a40",
   "metadata": {},
   "outputs": [
    {
     "data": {
      "text/plain": [
       "<Axes: xlabel='spending', ylabel='income'>"
      ]
     },
     "execution_count": 209,
     "metadata": {},
     "output_type": "execute_result"
    },
    {
     "data": {
      "image/png": "[encoded data removed]",
      "text/plain": [
       "<Figure size 640x480 with 1 Axes>"
      ]
     },
     "metadata": {},
     "output_type": "display_data"
    }
   ],
   "source": [
    "sns.scatterplot(x='spending', y='income', data=data)"
   ]
  },
  {
   "cell_type": "code",
   "execution_count": null,
   "id": "cf81ccb5",
   "metadata": {},
   "outputs": [],
   "source": [
    "## Classify customer based on spending"
   ]
  },
  {
   "cell_type": "code",
   "execution_count": 211,
   "id": "f9e513ed",
   "metadata": {},
   "outputs": [
    {
     "data": {
      "text/plain": [
       "Index(['name', 'age', 'gender', 'education', 'income', 'country',\n",
       "       'purchase_frequency', 'spending'],\n",
       "      dtype='object')"
      ]
     },
     "execution_count": 211,
     "metadata": {},
     "output_type": "execute_result"
    }
   ],
   "source": [
    "data.columns"
   ]
  },
  {
   "cell_type": "code",
   "execution_count": 212,
   "id": "869d28ca",
   "metadata": {},
   "outputs": [],
   "source": [
    "def spending(spending):\n",
    "    if spending>=30000:\n",
    "        return \"High spending customer\"\n",
    "    elif spending>=10000:\n",
    "        return \"Moderate spending customer\"\n",
    "    else:\n",
    "        return \"Low spending customer\"\n",
    "    "
   ]
  },
  {
   "cell_type": "code",
   "execution_count": 213,
   "id": "7f68107f",
   "metadata": {},
   "outputs": [],
   "source": [
    "data['Rating_category']=data['spending'].apply(spending)"
   ]
  },
  {
   "cell_type": "code",
   "execution_count": 218,
   "id": "0b35a9f0",
   "metadata": {},
   "outputs": [
    {
     "data": {
      "text/html": [
       "<div>\n",
       "<style scoped>\n",
       "    .dataframe tbody tr th:only-of-type {\n",
       "        vertical-align: middle;\n",
       "    }\n",
       "\n",
       "    .dataframe tbody tr th {\n",
       "        vertical-align: top;\n",
       "    }\n",
       "\n",
       "    .dataframe thead th {\n",
       "        text-align: right;\n",
       "    }\n",
       "</style>\n",
       "<table border=\"1\" class=\"dataframe\">\n",
       "  <thead>\n",
       "    <tr style=\"text-align: right;\">\n",
       "      <th></th>\n",
       "      <th>name</th>\n",
       "      <th>age</th>\n",
       "      <th>gender</th>\n",
       "      <th>education</th>\n",
       "      <th>income</th>\n",
       "      <th>country</th>\n",
       "      <th>purchase_frequency</th>\n",
       "      <th>spending</th>\n",
       "      <th>Rating_categories</th>\n",
       "    </tr>\n",
       "  </thead>\n",
       "  <tbody>\n",
       "    <tr>\n",
       "      <th>0</th>\n",
       "      <td>Teresa Williams MD</td>\n",
       "      <td>42</td>\n",
       "      <td>Female</td>\n",
       "      <td>High School</td>\n",
       "      <td>53936</td>\n",
       "      <td>Slovenia</td>\n",
       "      <td>0.9</td>\n",
       "      <td>13227.120</td>\n",
       "      <td>Moderate spending customer</td>\n",
       "    </tr>\n",
       "    <tr>\n",
       "      <th>1</th>\n",
       "      <td>Christine Myers</td>\n",
       "      <td>49</td>\n",
       "      <td>Female</td>\n",
       "      <td>Master</td>\n",
       "      <td>82468</td>\n",
       "      <td>Aruba</td>\n",
       "      <td>0.6</td>\n",
       "      <td>12674.040</td>\n",
       "      <td>Moderate spending customer</td>\n",
       "    </tr>\n",
       "    <tr>\n",
       "      <th>2</th>\n",
       "      <td>Dwayne Moreno</td>\n",
       "      <td>55</td>\n",
       "      <td>Male</td>\n",
       "      <td>Bachelor</td>\n",
       "      <td>56941</td>\n",
       "      <td>Cyprus</td>\n",
       "      <td>0.3</td>\n",
       "      <td>5354.115</td>\n",
       "      <td>Low spending customer</td>\n",
       "    </tr>\n",
       "    <tr>\n",
       "      <th>3</th>\n",
       "      <td>Amy Norton</td>\n",
       "      <td>24</td>\n",
       "      <td>Female</td>\n",
       "      <td>Bachelor</td>\n",
       "      <td>60651</td>\n",
       "      <td>Palau</td>\n",
       "      <td>0.2</td>\n",
       "      <td>2606.510</td>\n",
       "      <td>Low spending customer</td>\n",
       "    </tr>\n",
       "    <tr>\n",
       "      <th>4</th>\n",
       "      <td>Tonya Adams</td>\n",
       "      <td>64</td>\n",
       "      <td>Male</td>\n",
       "      <td>Master</td>\n",
       "      <td>81884</td>\n",
       "      <td>Zambia</td>\n",
       "      <td>0.9</td>\n",
       "      <td>18984.780</td>\n",
       "      <td>Moderate spending customer</td>\n",
       "    </tr>\n",
       "    <tr>\n",
       "      <th>5</th>\n",
       "      <td>Charles Smith</td>\n",
       "      <td>24</td>\n",
       "      <td>Female</td>\n",
       "      <td>PhD</td>\n",
       "      <td>61444</td>\n",
       "      <td>Libyan Arab Jamahiriya</td>\n",
       "      <td>1.0</td>\n",
       "      <td>18072.200</td>\n",
       "      <td>Moderate spending customer</td>\n",
       "    </tr>\n",
       "    <tr>\n",
       "      <th>6</th>\n",
       "      <td>Misty Moody</td>\n",
       "      <td>58</td>\n",
       "      <td>Male</td>\n",
       "      <td>PhD</td>\n",
       "      <td>78024</td>\n",
       "      <td>Italy</td>\n",
       "      <td>0.9</td>\n",
       "      <td>21511.080</td>\n",
       "      <td>Moderate spending customer</td>\n",
       "    </tr>\n",
       "    <tr>\n",
       "      <th>7</th>\n",
       "      <td>Brian Kent</td>\n",
       "      <td>34</td>\n",
       "      <td>Male</td>\n",
       "      <td>High School</td>\n",
       "      <td>32225</td>\n",
       "      <td>Pakistan</td>\n",
       "      <td>0.7</td>\n",
       "      <td>6727.875</td>\n",
       "      <td>Low spending customer</td>\n",
       "    </tr>\n",
       "    <tr>\n",
       "      <th>8</th>\n",
       "      <td>Stacie Ray</td>\n",
       "      <td>63</td>\n",
       "      <td>Male</td>\n",
       "      <td>PhD</td>\n",
       "      <td>63664</td>\n",
       "      <td>Venezuela</td>\n",
       "      <td>0.4</td>\n",
       "      <td>9273.280</td>\n",
       "      <td>Low spending customer</td>\n",
       "    </tr>\n",
       "    <tr>\n",
       "      <th>9</th>\n",
       "      <td>Brian Townsend</td>\n",
       "      <td>64</td>\n",
       "      <td>Female</td>\n",
       "      <td>High School</td>\n",
       "      <td>45043</td>\n",
       "      <td>San Marino</td>\n",
       "      <td>1.0</td>\n",
       "      <td>16252.150</td>\n",
       "      <td>Moderate spending customer</td>\n",
       "    </tr>\n",
       "  </tbody>\n",
       "</table>\n",
       "</div>"
      ],
      "text/plain": [
       "                 name  age  gender    education  income  \\\n",
       "0  Teresa Williams MD   42  Female  High School   53936   \n",
       "1     Christine Myers   49  Female       Master   82468   \n",
       "2       Dwayne Moreno   55    Male     Bachelor   56941   \n",
       "3          Amy Norton   24  Female     Bachelor   60651   \n",
       "4         Tonya Adams   64    Male       Master   81884   \n",
       "5       Charles Smith   24  Female          PhD   61444   \n",
       "6         Misty Moody   58    Male          PhD   78024   \n",
       "7          Brian Kent   34    Male  High School   32225   \n",
       "8          Stacie Ray   63    Male          PhD   63664   \n",
       "9      Brian Townsend   64  Female  High School   45043   \n",
       "\n",
       "                  country  purchase_frequency   spending  \\\n",
       "0                Slovenia                 0.9  13227.120   \n",
       "1                   Aruba                 0.6  12674.040   \n",
       "2                  Cyprus                 0.3   5354.115   \n",
       "3                   Palau                 0.2   2606.510   \n",
       "4                  Zambia                 0.9  18984.780   \n",
       "5  Libyan Arab Jamahiriya                 1.0  18072.200   \n",
       "6                   Italy                 0.9  21511.080   \n",
       "7                Pakistan                 0.7   6727.875   \n",
       "8               Venezuela                 0.4   9273.280   \n",
       "9              San Marino                 1.0  16252.150   \n",
       "\n",
       "            Rating_categories  \n",
       "0  Moderate spending customer  \n",
       "1  Moderate spending customer  \n",
       "2       Low spending customer  \n",
       "3       Low spending customer  \n",
       "4  Moderate spending customer  \n",
       "5  Moderate spending customer  \n",
       "6  Moderate spending customer  \n",
       "7       Low spending customer  \n",
       "8       Low spending customer  \n",
       "9  Moderate spending customer  "
      ]
     },
     "execution_count": 218,
     "metadata": {},
     "output_type": "execute_result"
    }
   ],
   "source": [
    "data.head(10)"
   ]
  },
  {
   "cell_type": "code",
   "execution_count": null,
   "id": "6d872359",
   "metadata": {},
   "outputs": [],
   "source": []
  },
  {
   "cell_type": "code",
   "execution_count": null,
   "id": "af3b3223",
   "metadata": {},
   "outputs": [],
   "source": []
  },
  {
   "cell_type": "code",
   "execution_count": null,
   "id": "e0a03015",
   "metadata": {},
   "outputs": [],
   "source": []
  },
  {
   "cell_type": "code",
   "execution_count": null,
   "id": "b340c261",
   "metadata": {},
   "outputs": [],
   "source": []
  }
 ],
 "metadata": {
  "kernelspec": {
   "display_name": "Python 3 (ipykernel)",
   "language": "python",
   "name": "python3"
  },
  "language_info": {
   "codemirror_mode": {
    "name": "ipython",
    "version": 3
   },
   "file_extension": ".py",
   "mimetype": "text/x-python",
   "name": "python",
   "nbconvert_exporter": "python",
   "pygments_lexer": "ipython3",
   "version": "3.10.9"
  }
 },
 "nbformat": 4,
 "nbformat_minor": 5
}
